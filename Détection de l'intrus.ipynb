{
 "cells": [
  {
   "cell_type": "code",
   "execution_count": 7,
   "metadata": {},
   "outputs": [],
   "source": [
    "# Lecture des librairies, qt pour afficher des fenêtres flottantes\n",
    "%matplotlib qt\n",
    "import matplotlib.pyplot as plt\n",
    "import numpy as np\n",
    "from skimage import io\n",
    "from skimage.feature import match_template"
   ]
  },
  {
   "cell_type": "code",
   "execution_count": 6,
   "metadata": {},
   "outputs": [
    {
     "data": {
      "text/plain": [
       "(-0.5, 1167.5, 1167.5, -0.5)"
      ]
     },
     "execution_count": 6,
     "metadata": {},
     "output_type": "execute_result"
    }
   ],
   "source": [
    "# Lecture de l'image\n",
    "image = io.imread('./image.png', as_gray = True)\n",
    "\n",
    "# Lecture du modèle\n",
    "modele = np.load('./modele.npy')\n",
    "\n",
    "# Template matching\n",
    "result = match_template(image, modele)\n",
    "\n",
    "# Recherche du point de correspondance maximale\n",
    "ij = np.unravel_index(np.argmax(result), result.shape)\n",
    "x, y = ij[::-1] # conversion de ligne, colonne à coordonnées x,y\n",
    "\n",
    "# Limites de la région de correspondance maximale\n",
    "longueur, largeur = modele.shape\n",
    "a = x + largeur/2\n",
    "b = y + longueur/2\n",
    "\n",
    "# Affichage d'un rectangle autour de la région\n",
    "plt.imshow(image, cmap=plt.cm.gray)\n",
    "rect = plt.Rectangle((x, y), largeur, longueur, edgecolor='r', facecolor='none')\n",
    "plt.plot(a,b, 'rx')\n",
    "plt.gca().add_patch(rect)\n",
    "plt.axis('off')"
   ]
  },
  {
   "cell_type": "code",
   "execution_count": null,
   "metadata": {},
   "outputs": [],
   "source": []
  }
 ],
 "metadata": {
  "kernelspec": {
   "display_name": "Python 3 (ipykernel)",
   "language": "python",
   "name": "python3"
  },
  "language_info": {
   "codemirror_mode": {
    "name": "ipython",
    "version": 3
   },
   "file_extension": ".py",
   "mimetype": "text/x-python",
   "name": "python",
   "nbconvert_exporter": "python",
   "pygments_lexer": "ipython3",
   "version": "3.9.7"
  }
 },
 "nbformat": 4,
 "nbformat_minor": 4
}
